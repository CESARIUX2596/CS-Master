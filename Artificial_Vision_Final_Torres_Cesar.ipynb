{
  "nbformat": 4,
  "nbformat_minor": 0,
  "metadata": {
    "colab": {
      "name": "Artificial_Vision_Final_Torres_Cesar.ipynb",
      "provenance": [],
      "collapsed_sections": [],
      "authorship_tag": "ABX9TyOncQVos7tS3VYKJ2ftpS3k",
      "include_colab_link": true
    },
    "kernelspec": {
      "name": "python3",
      "display_name": "Python 3"
    },
    "language_info": {
      "name": "python"
    },
    "accelerator": "GPU"
  },
  "cells": [
    {
      "cell_type": "markdown",
      "metadata": {
        "id": "view-in-github",
        "colab_type": "text"
      },
      "source": [
        "<a href=\"https://colab.research.google.com/github/CESARIUX2596/CS-Master/blob/master/Artificial_Vision_Final_Torres_Cesar.ipynb\" target=\"_parent\"><img src=\"https://colab.research.google.com/assets/colab-badge.svg\" alt=\"Open In Colab\"/></a>"
      ]
    },
    {
      "cell_type": "markdown",
      "metadata": {
        "id": "tisZB_jYZ5hz"
      },
      "source": [
        "# Guitar classification\n",
        "In this project we will create a model that classifies guitar by body type in realtime using the videofeed of a camera.\n",
        "The body types available to clasify are the following:\n",
        "\n",
        "\n",
        "*   Acoustic\n",
        "*   Double Cut\n",
        "*   Les Paul\n",
        "*   Telecaster\n",
        "*   Strat\n",
        "*   Ukulele\n",
        "\n",
        "\n"
      ]
    },
    {
      "cell_type": "code",
      "metadata": {
        "id": "YNCKssR1Voyu"
      },
      "source": [
        "# Imports\n",
        "import numpy as np # Operate with image\n",
        "import pandas as pd # Create dataframe to feed the CNN\n",
        "import pickle # Store trained model for future uses\n",
        "import tensorflow as tf # Backbone of AI Architecture\n",
        "import os\n",
        "from sklearn.model_selection import train_test_split\n",
        "from tensorflow.python.keras.layers import Input, Dense, Conv2D, Dropout, Flatten, MaxPooling2D # Inteface to tensorflow\n",
        "from tensorflow.python.keras.preprocessing.image import ImageDataGenerator\n",
        "from tensorflow.keras.optimizers import RMSprop\n",
        "import cv2 # Manipulate images\n",
        "from matplotlib import pyplot as plt # Display info related to the model\n",
        "%matplotlib inline"
      ],
      "execution_count": null,
      "outputs": []
    },
    {
      "cell_type": "markdown",
      "metadata": {
        "id": "D9ntRjDVY3QT"
      },
      "source": [
        "## Read dataset hosted from Google Drive\n",
        "Mount google drive as a device to acces the folder that contains the images that will be used to train the Convolutional Neuronal Network to classify guitar images"
      ]
    },
    {
      "cell_type": "code",
      "metadata": {
        "colab": {
          "base_uri": "https://localhost:8080/"
        },
        "id": "0oUaEwGRXe0f",
        "outputId": "d1729204-f09e-4362-bf7f-40ba3fb494ac"
      },
      "source": [
        "# Mount Google drive as a device\n",
        "from google.colab import drive\n",
        "drive.mount(\"/content/drive\")"
      ],
      "execution_count": null,
      "outputs": [
        {
          "output_type": "stream",
          "text": [
            "Drive already mounted at /content/drive; to attempt to forcibly remount, call drive.mount(\"/content/drive\", force_remount=True).\n"
          ],
          "name": "stdout"
        }
      ]
    },
    {
      "cell_type": "code",
      "metadata": {
        "colab": {
          "base_uri": "https://localhost:8080/"
        },
        "id": "jqsMRY7WiUKj",
        "outputId": "bc06b6c9-8714-4284-de26-08f08b47d111"
      },
      "source": [
        "# Mount folder where data is hosted\n",
        "os.chdir(\"/content/drive/My Drive/datasets/caos_guitar_dataset\")\n",
        "!ls"
      ],
      "execution_count": null,
      "outputs": [
        {
          "output_type": "stream",
          "text": [
            "Acoustic  Double_Cut  Les_Paul\tStrat  Telecaster  Ukulele\n"
          ],
          "name": "stdout"
        }
      ]
    },
    {
      "cell_type": "code",
      "metadata": {
        "id": "DQqvCwiXgFVU",
        "colab": {
          "base_uri": "https://localhost:8080/"
        },
        "outputId": "73d63351-77fe-476d-dab0-dee29e521bcc"
      },
      "source": [
        "print(\"Amount of pictures per style\")\n",
        "path, dirs, accoustic = next(os.walk(\"/content/drive/My Drive/datasets/caos_guitar_dataset/Acoustic\"))\n",
        "accoustic_count = len(accoustic)\n",
        "print(\"Acoustic:\" , accoustic_count)\n",
        "\n",
        "path, dirs, double_cut = next(os.walk(\"/content/drive/My Drive/datasets/caos_guitar_dataset/Double_Cut\"))\n",
        "dc_count = len(double_cut)\n",
        "print(\"Double Cut:\" , dc_count)\n",
        "\n",
        "path, dirs, les_paul = next(os.walk(\"/content/drive/My Drive/datasets/caos_guitar_dataset/Les_Paul\"))\n",
        "lp_count = len(les_paul)\n",
        "print(\"Les Paul:\" , lp_count)\n",
        "\n",
        "path, dirs, telecaster = next(os.walk(\"/content/drive/My Drive/datasets/caos_guitar_dataset/Telecaster\"))\n",
        "tele_count = len(telecaster)\n",
        "print(\"Telecaster:\" , tele_count)\n",
        "\n",
        "path, dirs, strat = next(os.walk(\"/content/drive/My Drive/datasets/caos_guitar_dataset/Strat\"))\n",
        "strat_count = len(strat)\n",
        "print(\"Strat:\" , strat_count)\n",
        "\n",
        "\n",
        "path, dirs, ukulele = next(os.walk(\"/content/drive/My Drive/datasets/caos_guitar_dataset/Ukulele\"))\n",
        "ukulele_count = len(ukulele)\n",
        "print(\"Ukulele:\" , ukulele_count)\n"
      ],
      "execution_count": null,
      "outputs": [
        {
          "output_type": "stream",
          "text": [
            "Amount of pictures per style\n",
            "Acoustic: 900\n",
            "Double Cut: 900\n",
            "Les Paul: 900\n",
            "Telecaster: 900\n",
            "Strat: 900\n",
            "Ukulele: 900\n"
          ],
          "name": "stdout"
        }
      ]
    },
    {
      "cell_type": "code",
      "metadata": {
        "id": "KfucZHt1KdGe",
        "colab": {
          "base_uri": "https://localhost:8080/"
        },
        "outputId": "acb3ea75-832f-4599-ecbc-db56524f29d8"
      },
      "source": [
        "# Start creating dataset for each label\n",
        "X = []\n",
        "y = []\n",
        "\n",
        "os.chdir(\"/content/drive/My Drive/datasets/caos_guitar_dataset/Acoustic\")\n",
        "tmp = os.listdir()\n",
        "for img_name in tmp:\n",
        "  img = cv2.imread(img_name, 0)\n",
        "  img = cv2.resize(img, (128,128))\n",
        "  img = img/255.0 # Normalize the image for values between 0 and 1\n",
        "  img = np.asarray(img, dtype=np.float32)\n",
        "  # X.append(img.flatten().astype('float32'))\n",
        "  X.append(img)\n",
        "  y.append('acoustic')\n",
        "  # y.append(0)\n",
        "print('Acoustic Finished')\n",
        "\n",
        "print(len(X))\n",
        "print(len(y))\n",
        "\n",
        "os.chdir(\"/content/drive/My Drive/datasets/caos_guitar_dataset/Double_Cut\")\n",
        "tmp = os.listdir()\n",
        "for img_name in tmp:\n",
        "  # print(img_name)\n",
        "  img = cv2.imread(img_name, 0)\n",
        "  img = cv2.resize(img, (128,128))\n",
        "  img = img/255.0 # Normalize the image for values between 0 and 1\n",
        "  img = np.asarray(img, dtype=np.float32)\n",
        "  # X.append(img.flatten().astype('float32'))\n",
        "  X.append(img)\n",
        "  y.append('double_cut')\n",
        "  # y.append(1)\n",
        "print('Double Cut Finished')\n",
        "\n",
        "print(len(X))\n",
        "print(len(y))\n",
        "\n",
        "os.chdir(\"/content/drive/My Drive/datasets/caos_guitar_dataset/Les_Paul\")\n",
        "tmp = os.listdir()\n",
        "for img_name in tmp:\n",
        "  img = cv2.imread(img_name, 0)\n",
        "  img = cv2.resize(img, (128,128))\n",
        "  img = img/255.0 # Normalize the image for values between 0 and 1\n",
        "  img = np.asarray(img, dtype=np.float32)\n",
        "  # X.append(img.flatten().astype('float32'))\n",
        "  X.append(img)\n",
        "  y.append('les_paul')\n",
        "  # y.append(2)\n",
        "print('Les Paul Finished')\n",
        "\n",
        "print(len(X))\n",
        "print(len(y))\n",
        "\n",
        "os.chdir(\"/content/drive/My Drive/datasets/caos_guitar_dataset/Strat\")\n",
        "tmp = os.listdir()\n",
        "for img_name in tmp:\n",
        "  img = cv2.imread(img_name, 0)\n",
        "  img = cv2.resize(img, (128,128))\n",
        "  img = img/255.0 # Normalize the image for values between 0 and 1\n",
        "  img = np.asarray(img, dtype=np.float32)\n",
        "  # X.append(img.flatten().astype('float32'))\n",
        "  X.append(img)\n",
        "  y.append('strat')\n",
        "  # y.append(3)\n",
        "print('Strat Finished')\n",
        "\n",
        "print(len(X))\n",
        "print(len(y))\n",
        "\n",
        "os.chdir(\"/content/drive/My Drive/datasets/caos_guitar_dataset/Telecaster\")\n",
        "tmp = os.listdir()\n",
        "for img_name in tmp:\n",
        "  img = cv2.imread(img_name, 0)\n",
        "  img = cv2.resize(img, (128,128))\n",
        "  img = img/255.0 # Normalize the image for values between 0 and 1\n",
        "  img = np.asarray(img, dtype=np.float32)\n",
        "  # X.append(img.flatten().astype('float32'))\n",
        "  X.append(img)\n",
        "  y.append('telecaster')\n",
        "  # y.append(4)\n",
        "print('Telecaster Finished')\n",
        "\n",
        "print(len(X))\n",
        "print(len(y))\n",
        "\n",
        "os.chdir(\"/content/drive/My Drive/datasets/caos_guitar_dataset/Ukulele\")\n",
        "tmp = os.listdir()\n",
        "for img_name in tmp:\n",
        "  img = cv2.imread(img_name, 0)\n",
        "  img = cv2.resize(img, (128,128))\n",
        "  img = img/255.0 # Normalize the image for values between 0 and 1\n",
        "  img = np.asarray(img, dtype=np.float32)\n",
        "  # X.append(img.flatten().astype('float32'))\n",
        "  X.append(img)\n",
        "  y.append('ukulele')\n",
        "  # y.append(5)\n",
        "print('Ukelele finished')\n",
        "\n",
        "print(len(X))\n",
        "print(len(y))\n",
        "\n",
        "print(\"DONE\")"
      ],
      "execution_count": null,
      "outputs": [
        {
          "output_type": "stream",
          "text": [
            "Acoustic Finished\n",
            "900\n",
            "900\n",
            "Double Cut Finished\n",
            "1800\n",
            "1800\n",
            "Les Paul Finished\n",
            "2700\n",
            "2700\n",
            "Strat Finished\n",
            "3600\n",
            "3600\n",
            "Telecaster Finished\n",
            "4500\n",
            "4500\n",
            "Ukelele finished\n",
            "5400\n",
            "5400\n",
            "DONE\n"
          ],
          "name": "stdout"
        }
      ]
    },
    {
      "cell_type": "code",
      "metadata": {
        "id": "DTX0IikUAk_7",
        "colab": {
          "base_uri": "https://localhost:8080/"
        },
        "outputId": "a7f91f7b-ffa2-4a0b-f7cf-f41d67c02706"
      },
      "source": [
        "print(f'We got %s featyres and %s labels' % (len(X), len(y)))"
      ],
      "execution_count": null,
      "outputs": [
        {
          "output_type": "stream",
          "text": [
            "We got 5400 featyres and 5400 labels\n"
          ],
          "name": "stdout"
        }
      ]
    },
    {
      "cell_type": "code",
      "metadata": {
        "id": "mgutOj-C0FmY",
        "colab": {
          "base_uri": "https://localhost:8080/",
          "height": 302
        },
        "outputId": "2d4664de-3c79-4937-8f63-63f43fa81b21"
      },
      "source": [
        "# Test some images to check if labels correspond to image\n",
        "# plt.imshow(np.reshape(X[3133]*255,(128,128)) )\n",
        "plt.imshow(X[1114])\n",
        "print(y[1114])\n",
        "print(X[1114].shape)\n"
      ],
      "execution_count": null,
      "outputs": [
        {
          "output_type": "stream",
          "text": [
            "double_cut\n",
            "(128, 128)\n"
          ],
          "name": "stdout"
        },
        {
          "output_type": "display_data",
          "data": {
            "image/png": "[encoded data removed]",
            "text/plain": [
              "<Figure size 432x288 with 1 Axes>"
            ]
          },
          "metadata": {
            "tags": [],
            "needs_background": "light"
          }
        }
      ]
    },
    {
      "cell_type": "code",
      "metadata": {
        "colab": {
          "base_uri": "https://localhost:8080/",
          "height": 221
        },
        "id": "1b6dUp5kpLfK",
        "outputId": "d27aa8eb-c088-4b1e-9c7e-537cb9bf3aa8"
      },
      "source": [
        "data = {'guitar_img':X,'style':y}\n",
        "# Create dataframe with dictionary\n",
        "df = pd.DataFrame(data)\n",
        "print(df.shape)\n",
        "df.tail()\n"
      ],
      "execution_count": null,
      "outputs": [
        {
          "output_type": "stream",
          "text": [
            "(5400, 2)\n"
          ],
          "name": "stdout"
        },
        {
          "output_type": "execute_result",
          "data": {
            "text/html": [
              "<div>\n",
              "<style scoped>\n",
              "    .dataframe tbody tr th:only-of-type {\n",
              "        vertical-align: middle;\n",
              "    }\n",
              "\n",
              "    .dataframe tbody tr th {\n",
              "        vertical-align: top;\n",
              "    }\n",
              "\n",
              "    .dataframe thead th {\n",
              "        text-align: right;\n",
              "    }\n",
              "</style>\n",
              "<table border=\"1\" class=\"dataframe\">\n",
              "  <thead>\n",
              "    <tr style=\"text-align: right;\">\n",
              "      <th></th>\n",
              "      <th>guitar_img</th>\n",
              "      <th>style</th>\n",
              "    </tr>\n",
              "  </thead>\n",
              "  <tbody>\n",
              "    <tr>\n",
              "      <th>5395</th>\n",
              "      <td>[[1.0, 1.0, 1.0, 1.0, 1.0, 1.0, 1.0, 1.0, 1.0,...</td>\n",
              "      <td>ukulele</td>\n",
              "    </tr>\n",
              "    <tr>\n",
              "      <th>5396</th>\n",
              "      <td>[[1.0, 1.0, 1.0, 1.0, 1.0, 1.0, 1.0, 1.0, 1.0,...</td>\n",
              "      <td>ukulele</td>\n",
              "    </tr>\n",
              "    <tr>\n",
              "      <th>5397</th>\n",
              "      <td>[[1.0, 1.0, 1.0, 1.0, 1.0, 1.0, 1.0, 1.0, 1.0,...</td>\n",
              "      <td>ukulele</td>\n",
              "    </tr>\n",
              "    <tr>\n",
              "      <th>5398</th>\n",
              "      <td>[[0.88235295, 0.8745098, 0.8784314, 0.85882354...</td>\n",
              "      <td>ukulele</td>\n",
              "    </tr>\n",
              "    <tr>\n",
              "      <th>5399</th>\n",
              "      <td>[[1.0, 1.0, 1.0, 1.0, 1.0, 1.0, 1.0, 1.0, 1.0,...</td>\n",
              "      <td>ukulele</td>\n",
              "    </tr>\n",
              "  </tbody>\n",
              "</table>\n",
              "</div>"
            ],
            "text/plain": [
              "                                             guitar_img    style\n",
              "5395  [[1.0, 1.0, 1.0, 1.0, 1.0, 1.0, 1.0, 1.0, 1.0,...  ukulele\n",
              "5396  [[1.0, 1.0, 1.0, 1.0, 1.0, 1.0, 1.0, 1.0, 1.0,...  ukulele\n",
              "5397  [[1.0, 1.0, 1.0, 1.0, 1.0, 1.0, 1.0, 1.0, 1.0,...  ukulele\n",
              "5398  [[0.88235295, 0.8745098, 0.8784314, 0.85882354...  ukulele\n",
              "5399  [[1.0, 1.0, 1.0, 1.0, 1.0, 1.0, 1.0, 1.0, 1.0,...  ukulele"
            ]
          },
          "metadata": {
            "tags": []
          },
          "execution_count": 78
        }
      ]
    },
    {
      "cell_type": "code",
      "metadata": {
        "id": "9TSKY9ahYWTd"
      },
      "source": [
        "# Shuffe Dataframe \n",
        "df2 = df.sample(frac=1, random_state=313).reset_index(drop=True)"
      ],
      "execution_count": null,
      "outputs": []
    },
    {
      "cell_type": "code",
      "metadata": {
        "colab": {
          "base_uri": "https://localhost:8080/",
          "height": 204
        },
        "id": "Pdz9EX27Ym5n",
        "outputId": "e196ade8-f5e9-40ba-dff2-ed7740d10b5d"
      },
      "source": [
        "df2.tail()"
      ],
      "execution_count": null,
      "outputs": [
        {
          "output_type": "execute_result",
          "data": {
            "text/html": [
              "<div>\n",
              "<style scoped>\n",
              "    .dataframe tbody tr th:only-of-type {\n",
              "        vertical-align: middle;\n",
              "    }\n",
              "\n",
              "    .dataframe tbody tr th {\n",
              "        vertical-align: top;\n",
              "    }\n",
              "\n",
              "    .dataframe thead th {\n",
              "        text-align: right;\n",
              "    }\n",
              "</style>\n",
              "<table border=\"1\" class=\"dataframe\">\n",
              "  <thead>\n",
              "    <tr style=\"text-align: right;\">\n",
              "      <th></th>\n",
              "      <th>guitar_img</th>\n",
              "      <th>style</th>\n",
              "    </tr>\n",
              "  </thead>\n",
              "  <tbody>\n",
              "    <tr>\n",
              "      <th>5395</th>\n",
              "      <td>[[0.6745098, 0.94509804, 0.6392157, 0.5921569,...</td>\n",
              "      <td>les_paul</td>\n",
              "    </tr>\n",
              "    <tr>\n",
              "      <th>5396</th>\n",
              "      <td>[[0.41568628, 0.4, 0.38431373, 0.40784314, 0.4...</td>\n",
              "      <td>ukulele</td>\n",
              "    </tr>\n",
              "    <tr>\n",
              "      <th>5397</th>\n",
              "      <td>[[0.12941177, 0.15686275, 0.1764706, 0.1921568...</td>\n",
              "      <td>ukulele</td>\n",
              "    </tr>\n",
              "    <tr>\n",
              "      <th>5398</th>\n",
              "      <td>[[1.0, 1.0, 1.0, 1.0, 1.0, 1.0, 1.0, 1.0, 1.0,...</td>\n",
              "      <td>double_cut</td>\n",
              "    </tr>\n",
              "    <tr>\n",
              "      <th>5399</th>\n",
              "      <td>[[1.0, 1.0, 1.0, 1.0, 1.0, 1.0, 1.0, 1.0, 1.0,...</td>\n",
              "      <td>strat</td>\n",
              "    </tr>\n",
              "  </tbody>\n",
              "</table>\n",
              "</div>"
            ],
            "text/plain": [
              "                                             guitar_img       style\n",
              "5395  [[0.6745098, 0.94509804, 0.6392157, 0.5921569,...    les_paul\n",
              "5396  [[0.41568628, 0.4, 0.38431373, 0.40784314, 0.4...     ukulele\n",
              "5397  [[0.12941177, 0.15686275, 0.1764706, 0.1921568...     ukulele\n",
              "5398  [[1.0, 1.0, 1.0, 1.0, 1.0, 1.0, 1.0, 1.0, 1.0,...  double_cut\n",
              "5399  [[1.0, 1.0, 1.0, 1.0, 1.0, 1.0, 1.0, 1.0, 1.0,...       strat"
            ]
          },
          "metadata": {
            "tags": []
          },
          "execution_count": 82
        }
      ]
    },
    {
      "cell_type": "code",
      "metadata": {
        "colab": {
          "base_uri": "https://localhost:8080/"
        },
        "id": "tp1sJftLtzMe",
        "outputId": "d382ba03-56bb-4afb-ba5c-601f1ac87674"
      },
      "source": [
        "# Find Features and targt variables for classification\n",
        "df2.columns"
      ],
      "execution_count": null,
      "outputs": [
        {
          "output_type": "execute_result",
          "data": {
            "text/plain": [
              "Index(['guitar_img', 'style'], dtype='object')"
            ]
          },
          "metadata": {
            "tags": []
          },
          "execution_count": 83
        }
      ]
    },
    {
      "cell_type": "code",
      "metadata": {
        "colab": {
          "base_uri": "https://localhost:8080/"
        },
        "id": "zJOUOTDXXQNV",
        "outputId": "a43d59f6-2293-42ee-d932-a780b2dabea9"
      },
      "source": [
        "features = df2['guitar_img']\n",
        "target = df2['style']\n",
        "print(features.shape)\n",
        "print(target.shape)"
      ],
      "execution_count": null,
      "outputs": [
        {
          "output_type": "stream",
          "text": [
            "(5400,)\n",
            "(5400,)\n"
          ],
          "name": "stdout"
        }
      ]
    },
    {
      "cell_type": "code",
      "metadata": {
        "id": "jbX2vujOEXcg"
      },
      "source": [
        "# Split Dataframe into train and test\n",
        "X_train, X_test, y_train, y_test = train_test_split(features, target, test_size=0.15, random_state=133)"
      ],
      "execution_count": 114,
      "outputs": []
    },
    {
      "cell_type": "code",
      "metadata": {
        "colab": {
          "base_uri": "https://localhost:8080/"
        },
        "id": "2vGemcc1egUq",
        "outputId": "75d8d74a-07cc-4cb8-b425-32d5f2169b00"
      },
      "source": [
        "\n",
        "print(f\"Length of Training Features %s\"%len(X_train))\n",
        "print(f\"Length of Training Labes %s\"%len(y_train))\n",
        "print(f\"Length of Testing Features = %s\"%len(X_test))\n",
        "print(f\"Length of Testing Labels = %s\"%len(y_test))\n",
        "print(X_train.shape)"
      ],
      "execution_count": null,
      "outputs": [
        {
          "output_type": "stream",
          "text": [
            "Length of Training Features 4590\n",
            "Length of Training Labes 4590\n",
            "Length of Testing Features = 810\n",
            "Length of Testing Labels = 810\n",
            "(4590,)\n"
          ],
          "name": "stdout"
        }
      ]
    },
    {
      "cell_type": "code",
      "metadata": {
        "colab": {
          "base_uri": "https://localhost:8080/",
          "height": 204
        },
        "id": "e726im1DoDQ4",
        "outputId": "2462a298-2aff-4be1-879c-69aeb2875cac"
      },
      "source": [
        "# Perform One Hot Encoding to Separate the categories for the clasification\n",
        "y_train = pd.get_dummies(y_train, columns=['style'])\n",
        "y_train.tail()"
      ],
      "execution_count": null,
      "outputs": [
        {
          "output_type": "execute_result",
          "data": {
            "text/html": [
              "<div>\n",
              "<style scoped>\n",
              "    .dataframe tbody tr th:only-of-type {\n",
              "        vertical-align: middle;\n",
              "    }\n",
              "\n",
              "    .dataframe tbody tr th {\n",
              "        vertical-align: top;\n",
              "    }\n",
              "\n",
              "    .dataframe thead th {\n",
              "        text-align: right;\n",
              "    }\n",
              "</style>\n",
              "<table border=\"1\" class=\"dataframe\">\n",
              "  <thead>\n",
              "    <tr style=\"text-align: right;\">\n",
              "      <th></th>\n",
              "      <th>acoustic</th>\n",
              "      <th>double_cut</th>\n",
              "      <th>les_paul</th>\n",
              "      <th>strat</th>\n",
              "      <th>telecaster</th>\n",
              "      <th>ukulele</th>\n",
              "    </tr>\n",
              "  </thead>\n",
              "  <tbody>\n",
              "    <tr>\n",
              "      <th>4660</th>\n",
              "      <td>1</td>\n",
              "      <td>0</td>\n",
              "      <td>0</td>\n",
              "      <td>0</td>\n",
              "      <td>0</td>\n",
              "      <td>0</td>\n",
              "    </tr>\n",
              "    <tr>\n",
              "      <th>1900</th>\n",
              "      <td>0</td>\n",
              "      <td>0</td>\n",
              "      <td>0</td>\n",
              "      <td>0</td>\n",
              "      <td>0</td>\n",
              "      <td>1</td>\n",
              "    </tr>\n",
              "    <tr>\n",
              "      <th>1025</th>\n",
              "      <td>0</td>\n",
              "      <td>0</td>\n",
              "      <td>0</td>\n",
              "      <td>0</td>\n",
              "      <td>0</td>\n",
              "      <td>1</td>\n",
              "    </tr>\n",
              "    <tr>\n",
              "      <th>5176</th>\n",
              "      <td>0</td>\n",
              "      <td>0</td>\n",
              "      <td>0</td>\n",
              "      <td>0</td>\n",
              "      <td>0</td>\n",
              "      <td>1</td>\n",
              "    </tr>\n",
              "    <tr>\n",
              "      <th>2721</th>\n",
              "      <td>1</td>\n",
              "      <td>0</td>\n",
              "      <td>0</td>\n",
              "      <td>0</td>\n",
              "      <td>0</td>\n",
              "      <td>0</td>\n",
              "    </tr>\n",
              "  </tbody>\n",
              "</table>\n",
              "</div>"
            ],
            "text/plain": [
              "      acoustic  double_cut  les_paul  strat  telecaster  ukulele\n",
              "4660         1           0         0      0           0        0\n",
              "1900         0           0         0      0           0        1\n",
              "1025         0           0         0      0           0        1\n",
              "5176         0           0         0      0           0        1\n",
              "2721         1           0         0      0           0        0"
            ]
          },
          "metadata": {
            "tags": []
          },
          "execution_count": 87
        }
      ]
    },
    {
      "cell_type": "code",
      "metadata": {
        "id": "Db0KoI-7lgFi"
      },
      "source": [
        "model = tf.keras.models.Sequential([\n",
        "    tf.keras.layers.Conv2D(32, (3,3), activation='relu', input_shape=(128, 128,1)),\n",
        "    tf.keras.layers.MaxPooling2D(2, 2),\n",
        "    tf.keras.layers.Conv2D(64, (3,3), activation='relu'),\n",
        "    tf.keras.layers.MaxPooling2D(2,2),\n",
        "    tf.keras.layers.Conv2D(128, (3,3), activation='relu'),\n",
        "    tf.keras.layers.MaxPooling2D(2,2),\n",
        "    tf.keras.layers.Conv2D(128, (3,3), activation='relu'),\n",
        "    tf.keras.layers.MaxPooling2D(2,2),\n",
        "    tf.keras.layers.Flatten(),\n",
        "    tf.keras.layers.Dense(512, activation='relu'),\n",
        "    tf.keras.layers.Dense(6, activation='softmax')\n",
        "])\n",
        "\n",
        "model.compile(loss='CategoricalCrossentropy',\n",
        "              optimizer=RMSprop(lr=1e-4),\n",
        "              metrics=['accuracy'])"
      ],
      "execution_count": null,
      "outputs": []
    },
    {
      "cell_type": "code",
      "metadata": {
        "id": "NaNdwJ-BDVoT"
      },
      "source": [
        "# Use the Preprocessing library from keras to perform data augmentation.\n",
        "datagen = ImageDataGenerator(\n",
        "    rescale=1.0/255.0,\n",
        "    rotation_range=180, # Give a wide rotation angle for images.\n",
        "    width_shift_range=0.35, # shift image from side to side\n",
        "    height_shift_range=0.35, # Shift image vertically\n",
        "    shear_range=0.35, # Add angle like rotation for the image\n",
        "    zoom_range=0.3,\n",
        "    horizontal_flip=True,\n",
        "    fill_mode='reflect')"
      ],
      "execution_count": null,
      "outputs": []
    },
    {
      "cell_type": "code",
      "metadata": {
        "colab": {
          "base_uri": "https://localhost:8080/"
        },
        "id": "Zu3el3y_j2VN",
        "outputId": "af9afe72-88ef-4399-982e-55e090ce9955"
      },
      "source": [
        "print(type(X_train))\n",
        "print(X_train.size)\n",
        "# print(X_train[0])\n",
        "# X_train = np.asarray(X_train)\n",
        "# print(X_train.shape)\n",
        "# print(type(X_train))\n",
        "# X_train.reshape(X_train.size,128,128,1)\n",
        "X_trainn = X_train.to_numpy()"
      ],
      "execution_count": null,
      "outputs": [
        {
          "output_type": "stream",
          "text": [
            "<class 'pandas.core.series.Series'>\n",
            "4590\n"
          ],
          "name": "stdout"
        }
      ]
    },
    {
      "cell_type": "code",
      "metadata": {
        "colab": {
          "base_uri": "https://localhost:8080/",
          "height": 164
        },
        "id": "4bHbDwd415hq",
        "outputId": "850aec88-e90e-440a-8bc3-b5a091a35fbe"
      },
      "source": [
        "# X_trainn.reshape(-1,128,128,1)"
      ],
      "execution_count": null,
      "outputs": [
        {
          "output_type": "error",
          "ename": "ValueError",
          "evalue": "ignored",
          "traceback": [
            "\u001b[0;31m---------------------------------------------------------------------------\u001b[0m",
            "\u001b[0;31mValueError\u001b[0m                                Traceback (most recent call last)",
            "\u001b[0;32m<ipython-input-19-ed9a7a7734ac>\u001b[0m in \u001b[0;36m<module>\u001b[0;34m()\u001b[0m\n\u001b[0;32m----> 1\u001b[0;31m \u001b[0mX_trainn\u001b[0m\u001b[0;34m.\u001b[0m\u001b[0mreshape\u001b[0m\u001b[0;34m(\u001b[0m\u001b[0;34m-\u001b[0m\u001b[0;36m1\u001b[0m\u001b[0;34m,\u001b[0m\u001b[0;36m128\u001b[0m\u001b[0;34m,\u001b[0m\u001b[0;36m128\u001b[0m\u001b[0;34m,\u001b[0m\u001b[0;36m1\u001b[0m\u001b[0;34m)\u001b[0m\u001b[0;34m\u001b[0m\u001b[0;34m\u001b[0m\u001b[0m\n\u001b[0m",
            "\u001b[0;31mValueError\u001b[0m: cannot reshape array of size 4590 into shape (128,128,1)"
          ]
        }
      ]
    },
    {
      "cell_type": "code",
      "metadata": {
        "id": "xNPcueKQ0RKJ"
      },
      "source": [
        "X_training_deveritas = []\n",
        "\n",
        "for img in X_train:\n",
        "  X_training_deveritas.append(img.reshape(128,128,1))\n",
        "\n",
        "X_training_deveritas = np.asarray(X_training_deveritas)"
      ],
      "execution_count": null,
      "outputs": []
    },
    {
      "cell_type": "code",
      "metadata": {
        "colab": {
          "base_uri": "https://localhost:8080/"
        },
        "id": "JZQRCsU61QNe",
        "outputId": "531da0dc-30e0-4c0f-ab63-87246cc0428c"
      },
      "source": [
        "print(X_training_deveritas.shape)"
      ],
      "execution_count": null,
      "outputs": [
        {
          "output_type": "stream",
          "text": [
            "(4590, 128, 128, 1)\n"
          ],
          "name": "stdout"
        }
      ]
    },
    {
      "cell_type": "code",
      "metadata": {
        "colab": {
          "base_uri": "https://localhost:8080/"
        },
        "id": "rSXpDj8YrOiy",
        "outputId": "164a4e97-85cb-4271-b7e0-a74403fadd87"
      },
      "source": [
        "model.fit(X_training_deveritas,y_train,batch_size=50,epochs=30)"
      ],
      "execution_count": null,
      "outputs": [
        {
          "output_type": "stream",
          "text": [
            "Epoch 1/30\n",
            "92/92 [==============================] - 3s 26ms/step - loss: 1.7851 - accuracy: 0.1942\n",
            "Epoch 2/30\n",
            "92/92 [==============================] - 2s 25ms/step - loss: 1.6888 - accuracy: 0.2852\n",
            "Epoch 3/30\n",
            "92/92 [==============================] - 2s 26ms/step - loss: 1.6138 - accuracy: 0.3280\n",
            "Epoch 4/30\n",
            "92/92 [==============================] - 2s 26ms/step - loss: 1.5113 - accuracy: 0.4029\n",
            "Epoch 5/30\n",
            "92/92 [==============================] - 2s 26ms/step - loss: 1.4478 - accuracy: 0.4294\n",
            "Epoch 6/30\n",
            "92/92 [==============================] - 2s 26ms/step - loss: 1.3486 - accuracy: 0.4820\n",
            "Epoch 7/30\n",
            "92/92 [==============================] - 2s 26ms/step - loss: 1.2727 - accuracy: 0.5233\n",
            "Epoch 8/30\n",
            "92/92 [==============================] - 2s 26ms/step - loss: 1.1929 - accuracy: 0.5671\n",
            "Epoch 9/30\n",
            "92/92 [==============================] - 2s 26ms/step - loss: 1.1054 - accuracy: 0.6016\n",
            "Epoch 10/30\n",
            "92/92 [==============================] - 2s 26ms/step - loss: 1.0078 - accuracy: 0.6363\n",
            "Epoch 11/30\n",
            "92/92 [==============================] - 2s 26ms/step - loss: 0.9376 - accuracy: 0.6724\n",
            "Epoch 12/30\n",
            "92/92 [==============================] - 2s 26ms/step - loss: 0.8506 - accuracy: 0.6942\n",
            "Epoch 13/30\n",
            "92/92 [==============================] - 2s 26ms/step - loss: 0.7759 - accuracy: 0.7325\n",
            "Epoch 14/30\n",
            "92/92 [==============================] - 2s 26ms/step - loss: 0.6957 - accuracy: 0.7588\n",
            "Epoch 15/30\n",
            "92/92 [==============================] - 2s 26ms/step - loss: 0.6091 - accuracy: 0.7956\n",
            "Epoch 16/30\n",
            "92/92 [==============================] - 2s 26ms/step - loss: 0.5577 - accuracy: 0.8064\n",
            "Epoch 17/30\n",
            "92/92 [==============================] - 2s 26ms/step - loss: 0.4793 - accuracy: 0.8413\n",
            "Epoch 18/30\n",
            "92/92 [==============================] - 2s 26ms/step - loss: 0.3972 - accuracy: 0.8748\n",
            "Epoch 19/30\n",
            "92/92 [==============================] - 2s 26ms/step - loss: 0.3369 - accuracy: 0.9004\n",
            "Epoch 20/30\n",
            "92/92 [==============================] - 2s 26ms/step - loss: 0.2891 - accuracy: 0.9062\n",
            "Epoch 21/30\n",
            "92/92 [==============================] - 2s 27ms/step - loss: 0.2373 - accuracy: 0.9274\n",
            "Epoch 22/30\n",
            "92/92 [==============================] - 2s 26ms/step - loss: 0.1955 - accuracy: 0.9446\n",
            "Epoch 23/30\n",
            "92/92 [==============================] - 2s 26ms/step - loss: 0.1499 - accuracy: 0.9599\n",
            "Epoch 24/30\n",
            "92/92 [==============================] - 2s 26ms/step - loss: 0.1347 - accuracy: 0.9659\n",
            "Epoch 25/30\n",
            "92/92 [==============================] - 2s 26ms/step - loss: 0.1096 - accuracy: 0.9702\n",
            "Epoch 26/30\n",
            "92/92 [==============================] - 2s 26ms/step - loss: 0.0831 - accuracy: 0.9813\n",
            "Epoch 27/30\n",
            "92/92 [==============================] - 2s 26ms/step - loss: 0.0923 - accuracy: 0.9768\n",
            "Epoch 28/30\n",
            "92/92 [==============================] - 2s 26ms/step - loss: 0.0616 - accuracy: 0.9854\n",
            "Epoch 29/30\n",
            "92/92 [==============================] - 2s 26ms/step - loss: 0.0631 - accuracy: 0.9847\n",
            "Epoch 30/30\n",
            "92/92 [==============================] - 2s 26ms/step - loss: 0.0569 - accuracy: 0.9880\n"
          ],
          "name": "stdout"
        },
        {
          "output_type": "execute_result",
          "data": {
            "text/plain": [
              "<tensorflow.python.keras.callbacks.History at 0x7f458181de50>"
            ]
          },
          "metadata": {
            "tags": []
          },
          "execution_count": 92
        }
      ]
    },
    {
      "cell_type": "code",
      "metadata": {
        "id": "XQO0xvUR-vlH"
      },
      "source": [
        "X_test_deveritas = []\n",
        "\n",
        "for img in X_test:\n",
        "  X_test_deveritas.append(img.reshape(128,128,1))\n",
        "\n",
        "X_test_deveritas = np.asarray(X_test_deveritas)"
      ],
      "execution_count": null,
      "outputs": []
    },
    {
      "cell_type": "code",
      "metadata": {
        "id": "15CAuJwj_fBK"
      },
      "source": [
        "y_pred = model.predict(X_test_deveritas)\n",
        "y_pred = np.argmax(y_pred, axis=1)"
      ],
      "execution_count": null,
      "outputs": []
    },
    {
      "cell_type": "code",
      "metadata": {
        "id": "IFhiAMs5C41Y"
      },
      "source": [
        "predictions = []\n",
        "for pos in range(len(y_pred)):\n",
        "    if(y_pred[pos] == 0):\n",
        "        predictions.append('acoustic')\n",
        "    if(y_pred[pos] == 1):\n",
        "        predictions.append('double_cut')\n",
        "    if(y_pred[pos] == 2):\n",
        "        predictions.append('les_paul')\n",
        "    if(y_pred[pos] == 3):\n",
        "        predictions.append('strat')\n",
        "    if(y_pred[pos] == 4):\n",
        "        predictions.append('telecaster')\n",
        "    if(y_pred[pos] == 5):\n",
        "        predictions.append('ukulele')\n",
        "\n"
      ],
      "execution_count": 115,
      "outputs": []
    },
    {
      "cell_type": "code",
      "metadata": {
        "colab": {
          "base_uri": "https://localhost:8080/"
        },
        "id": "ywYyqMhkDYok",
        "outputId": "1b277b6c-4969-40cc-cd97-2178bccc6665"
      },
      "source": [
        "print(y_test)"
      ],
      "execution_count": 119,
      "outputs": [
        {
          "output_type": "stream",
          "text": [
            "2490    telecaster\n",
            "1124      les_paul\n",
            "1102      les_paul\n",
            "662        ukulele\n",
            "2920      les_paul\n",
            "           ...    \n",
            "4515      les_paul\n",
            "5340    double_cut\n",
            "3311      les_paul\n",
            "5346    telecaster\n",
            "261       les_paul\n",
            "Name: style, Length: 810, dtype: object\n"
          ],
          "name": "stdout"
        }
      ]
    },
    {
      "cell_type": "code",
      "metadata": {
        "id": "3Dsv7oMlIc6m"
      },
      "source": [
        "y_predicted = pd.DataFrame({'style':predictions})"
      ],
      "execution_count": 116,
      "outputs": []
    },
    {
      "cell_type": "code",
      "metadata": {
        "colab": {
          "base_uri": "https://localhost:8080/"
        },
        "id": "Z7Rd4DHILB2v",
        "outputId": "4b76343f-db91-45ac-9bde-c799234f4b38"
      },
      "source": [
        "print(y_predicted)"
      ],
      "execution_count": 118,
      "outputs": [
        {
          "output_type": "stream",
          "text": [
            "          style\n",
            "0    telecaster\n",
            "1      les_paul\n",
            "2    double_cut\n",
            "3       ukulele\n",
            "4      les_paul\n",
            "..          ...\n",
            "805  double_cut\n",
            "806  double_cut\n",
            "807    les_paul\n",
            "808  telecaster\n",
            "809    les_paul\n",
            "\n",
            "[810 rows x 1 columns]\n"
          ],
          "name": "stdout"
        }
      ]
    },
    {
      "cell_type": "code",
      "metadata": {
        "id": "BgsJ3KE6_ojg"
      },
      "source": [
        "# y_test = pd.get_dummies(y_test, columns=['style'])\n",
        "# y_predicted = pd.get_dummies(y_predicted, columns=['style'])\n"
      ],
      "execution_count": 112,
      "outputs": []
    },
    {
      "cell_type": "code",
      "metadata": {
        "colab": {
          "base_uri": "https://localhost:8080/"
        },
        "id": "D8t18iJGLULe",
        "outputId": "e843dd31-fbe3-4ec1-f55c-a2e451a486ab"
      },
      "source": [
        "from sklearn.metrics import confusion_matrix\n",
        "\n",
        "# cf_matrix = confusion_matrix(y_test, y_predicted)\n",
        "# group_names = ['acoustic', 'double_cut', 'les_paul', 'strat', 'telecaster', 'ukulele']\n",
        "# group_counts = ['{0:0.0f}'.format(value) for value in cf_matrix.flatten()]\n",
        "# group_percentages = ['{0:.2%}'.format(value) for value in cf_matrix.flatten()/np.sum(cf_matrix)]\n",
        "# labels = [f'{v1}\\n{v2}\\n{v3}' for v1, v2, v3 in zip(group_names, group_counts, group_percentages)]\n",
        "# labels = np.asarray(labels).reshape(6,6)\n",
        "# accuracy  = np.trace(cf_matrix) / float(np.sum(cf_matrix))\n",
        "# precision = cf_matrix[1,1] / sum(cf_matrix[:,1])\n",
        "# recall    = cf_matrix[1,1] / sum(cf_matrix[1,:])\n",
        "# f1_score  = 2*precision*recall / (precision + recall)\n",
        "# sns.heatmap(cf_matrix, annot=labels, fmt='')\n",
        "# stats_text = \"\\n\\nAccuracy={:0.3f}\\nPrecision={:0.3f}\\nRecall={:0.3f}\\nF1 Score={}\".format(accuracy, precision, recall, f1_score)\n",
        "# plt.ylabel('True label')\n",
        "# plt.xlabel('Predicted label' + stats_text)\n",
        "\n",
        "\n",
        "# confusion_matrix(y_test, y_predicted, labels=['acoustic', 'double_cut', 'les_paul', 'strat', 'telecaster', 'ukulele'])\n"
      ],
      "execution_count": 120,
      "outputs": [
        {
          "output_type": "execute_result",
          "data": {
            "text/plain": [
              "array([[ 84,  10,   7,   7,   5,  16],\n",
              "       [  4,  85,  18,   1,   3,   9],\n",
              "       [ 12,  27,  91,   6,   3,  12],\n",
              "       [  4,  20,   5,  84,  15,  12],\n",
              "       [  6,  10,  10,   8, 101,   6],\n",
              "       [ 14,   9,  11,   4,   5,  86]])"
            ]
          },
          "metadata": {
            "tags": []
          },
          "execution_count": 120
        }
      ]
    },
    {
      "cell_type": "markdown",
      "metadata": {
        "id": "58dMYEYFm27N"
      },
      "source": [
        ""
      ]
    }
  ]
}