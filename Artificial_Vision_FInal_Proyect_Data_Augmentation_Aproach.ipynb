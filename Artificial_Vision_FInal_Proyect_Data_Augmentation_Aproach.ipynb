{
  "nbformat": 4,
  "nbformat_minor": 0,
  "metadata": {
    "colab": {
      "name": "Artificial_Vision_FInal_Proyect_Data_Augmentation_Aproach.ipynb",
      "provenance": [],
      "collapsed_sections": [],
      "authorship_tag": "ABX9TyMiWbc3XxHYrJPM93e43P2z",
      "include_colab_link": true
    },
    "kernelspec": {
      "name": "python3",
      "display_name": "Python 3"
    },
    "language_info": {
      "name": "python"
    }
  },
  "cells": [
    {
      "cell_type": "markdown",
      "metadata": {
        "id": "view-in-github",
        "colab_type": "text"
      },
      "source": [
        "<a href=\"https://colab.research.google.com/github/CESARIUX2596/CS-Master/blob/master/Artificial_Vision_FInal_Proyect_Data_Augmentation_Aproach.ipynb\" target=\"_parent\"><img src=\"https://colab.research.google.com/assets/colab-badge.svg\" alt=\"Open In Colab\"/></a>"
      ]
    },
    {
      "cell_type": "markdown",
      "metadata": {
        "id": "SzIJV_wYjoR1"
      },
      "source": [
        "# Guitar classification\n",
        "In this project we will create a model that classifies guitar by body type in realtime using the videofeed of a camera.\n",
        "The body types available to clasify are the following:\n",
        "\n",
        "\n",
        "*   Acoustic\n",
        "*   Double Cut\n",
        "*   Les Paul\n",
        "*   Telecaster\n",
        "*   Strat\n",
        "*   Ukulele\n",
        "\n",
        "\n",
        "In this Aproach we will use data augmentation to provide more training information to the Convolutional Neuronal Network while training."
      ]
    },
    {
      "cell_type": "code",
      "metadata": {
        "id": "eSGSgHkxjLXs"
      },
      "source": [
        "import numpy as np\n",
        "import matplotlib.pyplot as plt\n",
        "import os\n",
        "import cv2\n",
        "from tensorflow import keras"
      ],
      "execution_count": 5,
      "outputs": []
    },
    {
      "cell_type": "code",
      "metadata": {
        "colab": {
          "base_uri": "https://localhost:8080/"
        },
        "id": "lhE57Abej_Lj",
        "outputId": "3ea3a382-816f-4e0f-9510-e75cc3f2d746"
      },
      "source": [
        "# Mount Google drive as a device\n",
        "from google.colab import drive\n",
        "drive.mount(\"/content/drive\")"
      ],
      "execution_count": 6,
      "outputs": [
        {
          "output_type": "stream",
          "text": [
            "Drive already mounted at /content/drive; to attempt to forcibly remount, call drive.mount(\"/content/drive\", force_remount=True).\n"
          ],
          "name": "stdout"
        }
      ]
    },
    {
      "cell_type": "code",
      "metadata": {
        "colab": {
          "base_uri": "https://localhost:8080/"
        },
        "id": "jAfA-MmWkYUt",
        "outputId": "339dc9a4-62ef-4221-fa44-deafcf2411c2"
      },
      "source": [
        "'''\n",
        "The folder structure contains the Train and Test directories\n",
        "Each diractory has subfolders for each class that the classificatior will accept\n",
        "'''\n",
        "# Mount the folder with the dataset\n",
        "os.chdir(\"/content/drive/My Drive/datasets/caos_guitar_dataset\")\n",
        "!ls"
      ],
      "execution_count": 7,
      "outputs": [
        {
          "output_type": "stream",
          "text": [
            "Test  Train\n"
          ],
          "name": "stdout"
        }
      ]
    }
  ]
}